{
  "metadata": {
    "kernelspec": {
      "language": "python",
      "display_name": "Python 3",
      "name": "python3"
    },
    "language_info": {
      "name": "python",
      "version": "3.10.13",
      "mimetype": "text/x-python",
      "codemirror_mode": {
        "name": "ipython",
        "version": 3
      },
      "pygments_lexer": "ipython3",
      "nbconvert_exporter": "python",
      "file_extension": ".py"
    },
    "kaggle": {
      "accelerator": "none",
      "dataSources": [
        {
          "sourceId": 2347441,
          "sourceType": "datasetVersion",
          "datasetId": 1417162
        }
      ],
      "dockerImageVersionId": 30646,
      "isInternetEnabled": true,
      "language": "python",
      "sourceType": "notebook",
      "isGpuEnabled": false
    },
    "colab": {
      "provenance": []
    }
  },
  "nbformat_minor": 0,
  "nbformat": 4,
  "cells": [
    {
      "cell_type": "markdown",
      "source": [
        "# Movie Genre Classification"
      ],
      "metadata": {
        "id": "nhQz-nbeE7oA"
      }
    },
    {
      "cell_type": "markdown",
      "source": [
        "### **Comparing accuracies of Naive Bayes and Logistic Regression**"
      ],
      "metadata": {
        "id": "4NEIkt_DE7oB"
      }
    },
    {
      "cell_type": "code",
      "source": [
        "#Importing Libraries\n",
        "\n",
        "import numpy as np\n",
        "import pandas as pd\n",
        "import matplotlib.pyplot as plt\n",
        "import seaborn as sns\n",
        "import re\n",
        "import nltk\n",
        "import string\n",
        "\n",
        "from nltk.corpus import stopwords\n",
        "from nltk.stem import LancasterStemmer\n",
        "from sklearn.feature_extraction.text import TfidfVectorizer\n",
        "\n",
        "from sklearn.preprocessing import OneHotEncoder\n",
        "from sklearn.model_selection import train_test_split\n",
        "from sklearn.svm import SVC\n",
        "from sklearn.naive_bayes import MultinomialNB\n",
        "from sklearn.linear_model import LogisticRegression\n",
        "from sklearn.metrics import accuracy_score, classification_report"
      ],
      "metadata": {
        "execution": {
          "iopub.status.busy": "2024-02-27T02:55:14.433349Z",
          "iopub.execute_input": "2024-02-27T02:55:14.434919Z",
          "iopub.status.idle": "2024-02-27T02:55:14.443201Z",
          "shell.execute_reply.started": "2024-02-27T02:55:14.434868Z",
          "shell.execute_reply": "2024-02-27T02:55:14.44163Z"
        },
        "trusted": true,
        "id": "fGIqCjkPE7oB"
      },
      "execution_count": null,
      "outputs": []
    },
    {
      "cell_type": "markdown",
      "source": [
        "### **Load Training Data**"
      ],
      "metadata": {
        "id": "mY5zSEiXE7oC"
      }
    },
    {
      "cell_type": "code",
      "source": [
        "# Load the training data\n",
        "\n",
        "train_path = \"/kaggle/input/genre-classification-dataset-imdb/Genre Classification Dataset/train_data.txt\"\n",
        "train_data = pd.read_csv(train_path, sep=':::', names=['Title', 'Genre', 'Description'], engine='python')\n",
        "train_data.head(3)"
      ],
      "metadata": {
        "execution": {
          "iopub.status.busy": "2024-02-27T03:26:31.904028Z",
          "iopub.execute_input": "2024-02-27T03:26:31.904432Z",
          "iopub.status.idle": "2024-02-27T03:26:32.739098Z",
          "shell.execute_reply.started": "2024-02-27T03:26:31.904402Z",
          "shell.execute_reply": "2024-02-27T03:26:32.737999Z"
        },
        "trusted": true,
        "id": "o34CoXovE7oC"
      },
      "execution_count": null,
      "outputs": []
    },
    {
      "cell_type": "markdown",
      "source": [
        "### **Load Test Data**"
      ],
      "metadata": {
        "id": "IdQ4nWQIE7oC"
      }
    },
    {
      "cell_type": "code",
      "source": [
        "# Load the test data\n",
        "\n",
        "test_path = \"/kaggle/input/genre-classification-dataset-imdb/Genre Classification Dataset/test_data.txt\"\n",
        "test_data = pd.read_csv(test_path, sep=':::', names=['Id', 'Title', 'Description'], engine='python')\n",
        "test_data.head(3)"
      ],
      "metadata": {
        "execution": {
          "iopub.status.busy": "2024-02-27T03:26:35.599498Z",
          "iopub.execute_input": "2024-02-27T03:26:35.600198Z",
          "iopub.status.idle": "2024-02-27T03:26:36.020964Z",
          "shell.execute_reply.started": "2024-02-27T03:26:35.600164Z",
          "shell.execute_reply": "2024-02-27T03:26:36.019728Z"
        },
        "trusted": true,
        "id": "83gHKG2IE7oC"
      },
      "execution_count": null,
      "outputs": []
    },
    {
      "cell_type": "markdown",
      "source": [
        "### **Load Test Solution**"
      ],
      "metadata": {
        "id": "ofPgmjz0E7oC"
      }
    },
    {
      "cell_type": "code",
      "source": [
        "test_soln_path = \"/kaggle/input/genre-classification-dataset-imdb/Genre Classification Dataset/test_data_solution.txt\"\n",
        "test_soln_data = pd.read_csv(test_soln_path, sep=':::', names=['Id', 'Title', 'Description'], engine='python')\n",
        "test_soln_data.drop(test_soln_data.columns[[0, 2]], axis=1, inplace=True)\n",
        "test_soln_data.rename(columns = {'Title':'Actual Genre'}, inplace = True)\n",
        "test_soln_data.head(3)"
      ],
      "metadata": {
        "execution": {
          "iopub.status.busy": "2024-02-27T03:26:38.226862Z",
          "iopub.execute_input": "2024-02-27T03:26:38.227553Z",
          "iopub.status.idle": "2024-02-27T03:26:38.719254Z",
          "shell.execute_reply.started": "2024-02-27T03:26:38.227495Z",
          "shell.execute_reply": "2024-02-27T03:26:38.718097Z"
        },
        "trusted": true,
        "id": "uurnIFVnE7oC"
      },
      "execution_count": null,
      "outputs": []
    },
    {
      "cell_type": "markdown",
      "source": [
        "### **Visualise Data**"
      ],
      "metadata": {
        "id": "xdPcAprTE7oC"
      }
    },
    {
      "cell_type": "code",
      "source": [
        "#Count each genre value\n",
        "train_data.Genre.value_counts()"
      ],
      "metadata": {
        "execution": {
          "iopub.status.busy": "2024-02-26T21:53:33.687952Z",
          "iopub.execute_input": "2024-02-26T21:53:33.68831Z",
          "iopub.status.idle": "2024-02-26T21:53:33.708312Z",
          "shell.execute_reply.started": "2024-02-26T21:53:33.688283Z",
          "shell.execute_reply": "2024-02-26T21:53:33.706383Z"
        },
        "trusted": true,
        "id": "SQj66qJjE7oD"
      },
      "execution_count": null,
      "outputs": []
    },
    {
      "cell_type": "code",
      "source": [
        "# Plot the distribution of genres in the training data\n",
        "plt.figure(figsize=(14, 7))\n",
        "sns.countplot(data=train_data, y='Genre', order=train_data['Genre'].value_counts().index, palette='viridis')\n",
        "plt.xlabel('Count', fontsize=14, fontweight='bold')\n",
        "plt.ylabel('Distribution of Genres', fontsize=14, fontweight='bold')"
      ],
      "metadata": {
        "execution": {
          "iopub.status.busy": "2024-02-26T21:44:43.589608Z",
          "iopub.execute_input": "2024-02-26T21:44:43.589983Z",
          "iopub.status.idle": "2024-02-26T21:44:44.048249Z",
          "shell.execute_reply.started": "2024-02-26T21:44:43.589955Z",
          "shell.execute_reply": "2024-02-26T21:44:44.046965Z"
        },
        "trusted": true,
        "id": "Dwh_6jgyE7oD"
      },
      "execution_count": null,
      "outputs": []
    },
    {
      "cell_type": "code",
      "source": [
        "# Plot the distribution of genres using a bar plot\n",
        "plt.figure(figsize=(14, 7))\n",
        "counts = train_data['Genre'].value_counts()\n",
        "sns.barplot(x=counts.index, y=counts, palette='mako')\n",
        "plt.xlabel('Distribution of Genres', fontsize=14, fontweight='bold')\n",
        "plt.ylabel('Count', fontsize=14, fontweight='bold')\n",
        "plt.title('BAR CHART', fontsize=16, fontweight='bold')\n",
        "plt.xticks(rotation=90, fontsize=14, fontweight='bold')\n",
        "plt.show()"
      ],
      "metadata": {
        "execution": {
          "iopub.status.busy": "2024-02-26T21:53:35.042809Z",
          "iopub.execute_input": "2024-02-26T21:53:35.043166Z",
          "iopub.status.idle": "2024-02-26T21:53:35.478706Z",
          "shell.execute_reply.started": "2024-02-26T21:53:35.043138Z",
          "shell.execute_reply": "2024-02-26T21:53:35.477058Z"
        },
        "trusted": true,
        "id": "4J8hRR62E7oD"
      },
      "execution_count": null,
      "outputs": []
    },
    {
      "cell_type": "markdown",
      "source": [
        "### **Data Preprocessing**"
      ],
      "metadata": {
        "id": "i49uH6NDE7oD"
      }
    },
    {
      "cell_type": "code",
      "source": [
        "train_data.info()"
      ],
      "metadata": {
        "execution": {
          "iopub.status.busy": "2024-02-26T21:53:45.713415Z",
          "iopub.execute_input": "2024-02-26T21:53:45.713799Z",
          "iopub.status.idle": "2024-02-26T21:53:45.742471Z",
          "shell.execute_reply.started": "2024-02-26T21:53:45.713768Z",
          "shell.execute_reply": "2024-02-26T21:53:45.741441Z"
        },
        "trusted": true,
        "id": "DBOG-6rZE7oD"
      },
      "execution_count": null,
      "outputs": []
    },
    {
      "cell_type": "code",
      "source": [
        "#Finda any null value\n",
        "train_data.isnull().sum()"
      ],
      "metadata": {
        "execution": {
          "iopub.status.busy": "2024-02-26T21:53:48.083217Z",
          "iopub.execute_input": "2024-02-26T21:53:48.08383Z",
          "iopub.status.idle": "2024-02-26T21:53:48.107318Z",
          "shell.execute_reply.started": "2024-02-26T21:53:48.083798Z",
          "shell.execute_reply": "2024-02-26T21:53:48.105572Z"
        },
        "trusted": true,
        "id": "b-UGlPF6E7oD"
      },
      "execution_count": null,
      "outputs": []
    },
    {
      "cell_type": "code",
      "source": [
        "# Initialize the stemmer and stop words\n",
        "stemmer = LancasterStemmer()\n",
        "stop_words = set(stopwords.words('english'))\n",
        "\n",
        "# Define the clean_text function\n",
        "def clean_text(text):\n",
        "    text = text.lower()  # Lowercase all characters\n",
        "    text = re.sub(r'@\\S+', '', text)  # Remove Twitter handles\n",
        "    text = re.sub(r'http\\S+', '', text)  # Remove URLs\n",
        "    text = re.sub(r'pic.\\S+', '', text)\n",
        "    text = re.sub(r\"[^a-zA-Z+']\", ' ', text)  # Keep only characters\n",
        "    text = re.sub(r'\\s+[a-zA-Z]\\s+', ' ', text + ' ')  # Keep words with length > 1 only\n",
        "    text = \"\".join([i for i in text if i not in string.punctuation])\n",
        "    words = nltk.word_tokenize(text)\n",
        "    stopwords = nltk.corpus.stopwords.words('english')  # Remove stopwords\n",
        "    text = \" \".join([i for i in words if i not in stopwords and len(i) > 2])\n",
        "    text = re.sub(\"\\s[\\s]+\", \" \", text).strip()  # Remove repeated/leading/trailing spaces\n",
        "    return text\n",
        "\n",
        "# Apply the clean_text function to the 'Description' column in the training and test data\n",
        "train_data['Text_cleaning'] = train_data['Description'].apply(clean_text)\n",
        "test_data['Text_cleaning'] = test_data['Description'].apply(clean_text)"
      ],
      "metadata": {
        "execution": {
          "iopub.status.busy": "2024-02-27T02:56:02.497064Z",
          "iopub.execute_input": "2024-02-27T02:56:02.497511Z",
          "iopub.status.idle": "2024-02-27T02:59:04.807709Z",
          "shell.execute_reply.started": "2024-02-27T02:56:02.497481Z",
          "shell.execute_reply": "2024-02-27T02:59:04.806219Z"
        },
        "trusted": true,
        "id": "l6QcEnIoE7oD"
      },
      "execution_count": null,
      "outputs": []
    },
    {
      "cell_type": "code",
      "source": [
        "# Droping the redundant data\n",
        "print(\"shape before drop nulls\",train_data.shape)\n",
        "train_data = train_data.drop_duplicates()\n",
        "print(\"shape after drop nulls\",train_data.shape)"
      ],
      "metadata": {
        "execution": {
          "iopub.status.busy": "2024-02-27T03:00:06.433752Z",
          "iopub.execute_input": "2024-02-27T03:00:06.434215Z",
          "iopub.status.idle": "2024-02-27T03:00:06.674432Z",
          "shell.execute_reply.started": "2024-02-27T03:00:06.434183Z",
          "shell.execute_reply": "2024-02-27T03:00:06.672869Z"
        },
        "trusted": true,
        "id": "nvrk_a4RE7oD"
      },
      "execution_count": null,
      "outputs": []
    },
    {
      "cell_type": "code",
      "source": [
        "import warnings\n",
        "warnings.filterwarnings(\"ignore\", \"use_inf_as_na\")\n",
        "\n",
        "# Calculate the length of cleaned text\n",
        "train_data['length_Text_cleaning'] = train_data['Text_cleaning'].apply(len)\n",
        "# Visualize the distribution of text lengths\n",
        "plt.figure(figsize=(8, 7))\n",
        "sns.histplot(data=train_data, x='length_Text_cleaning', bins=20, kde=True, color='blue')\n",
        "plt.xlabel('Length', fontsize=14, fontweight='bold')\n",
        "plt.ylabel('Frequency', fontsize=14, fontweight='bold')\n",
        "plt.title('Distribution of Lengths', fontsize=16, fontweight='bold')\n",
        "plt.show()"
      ],
      "metadata": {
        "execution": {
          "iopub.status.busy": "2024-02-26T21:55:31.847861Z",
          "iopub.execute_input": "2024-02-26T21:55:31.848237Z",
          "iopub.status.idle": "2024-02-26T21:55:32.412532Z",
          "shell.execute_reply.started": "2024-02-26T21:55:31.848197Z",
          "shell.execute_reply": "2024-02-26T21:55:32.411194Z"
        },
        "trusted": true,
        "id": "Vk5BEAyXE7oE"
      },
      "execution_count": null,
      "outputs": []
    },
    {
      "cell_type": "code",
      "source": [
        "# Create histograms to visualize the distribution of text lengths before and after cleaning\n",
        "\n",
        "# Set up the figure with two subplots\n",
        "plt.figure(figsize=(12, 6))\n",
        "\n",
        "# Subplot 1: Original text length distribution\n",
        "plt.subplot(1, 2, 1)\n",
        "original_lengths = train_data['Description'].apply(len)\n",
        "plt.hist(original_lengths, bins=range(0, max(original_lengths) + 100, 100), color='blue', alpha=0.7)\n",
        "plt.title('Original Text Length')\n",
        "plt.xlabel('Text Length')\n",
        "plt.ylabel('Frequency')\n",
        "\n",
        "# Subplot 2: Cleaned text length distribution\n",
        "plt.subplot(1, 2, 2)\n",
        "cleaned_lengths = train_data['Text_cleaning'].apply(len)\n",
        "plt.hist(cleaned_lengths, bins=range(0, max(cleaned_lengths) + 100, 100), color='green', alpha=0.7)\n",
        "plt.title('Cleaned Text Length')\n",
        "plt.xlabel('Text Length')\n",
        "plt.ylabel('Frequency')\n",
        "\n",
        "# Adjust layout and display the plots\n",
        "plt.tight_layout()\n",
        "plt.show()"
      ],
      "metadata": {
        "execution": {
          "iopub.status.busy": "2024-02-26T21:55:34.329962Z",
          "iopub.execute_input": "2024-02-26T21:55:34.330351Z",
          "iopub.status.idle": "2024-02-26T21:55:35.011297Z",
          "shell.execute_reply.started": "2024-02-26T21:55:34.330311Z",
          "shell.execute_reply": "2024-02-26T21:55:35.010027Z"
        },
        "trusted": true,
        "id": "RN4qX9mCE7oE"
      },
      "execution_count": null,
      "outputs": []
    },
    {
      "cell_type": "markdown",
      "source": [
        "### **Text Vectorization (TF-IDF)**"
      ],
      "metadata": {
        "id": "D8Yb6hsaE7oE"
      }
    },
    {
      "cell_type": "code",
      "source": [
        "# Initialize the TF-IDF vectorizer\n",
        "tfidf_vectorizer = TfidfVectorizer()\n",
        "\n",
        "# Fit and transform the training data\n",
        "X_train = tfidf_vectorizer.fit_transform(train_data['Text_cleaning'])\n",
        "\n",
        "# Transform the test data\n",
        "X_test = tfidf_vectorizer.transform(test_data['Text_cleaning'])"
      ],
      "metadata": {
        "execution": {
          "iopub.status.busy": "2024-02-27T03:00:18.697023Z",
          "iopub.execute_input": "2024-02-27T03:00:18.697563Z",
          "iopub.status.idle": "2024-02-27T03:00:28.932202Z",
          "shell.execute_reply.started": "2024-02-27T03:00:18.697504Z",
          "shell.execute_reply": "2024-02-27T03:00:28.930917Z"
        },
        "trusted": true,
        "id": "w5WduBx_E7oE"
      },
      "execution_count": null,
      "outputs": []
    },
    {
      "cell_type": "markdown",
      "source": [
        "### **Split Data and Train Model**"
      ],
      "metadata": {
        "id": "tzQZl3hHE7oE"
      }
    },
    {
      "cell_type": "code",
      "source": [
        "# Split the data into training and validation sets\n",
        "X = X_train\n",
        "y = train_data['Genre']\n",
        "X_train, X_val, y_train, y_val = train_test_split(X, y, test_size=0.2, random_state=42)"
      ],
      "metadata": {
        "execution": {
          "iopub.status.busy": "2024-02-27T03:00:32.381184Z",
          "iopub.execute_input": "2024-02-27T03:00:32.382932Z",
          "iopub.status.idle": "2024-02-27T03:00:32.413852Z",
          "shell.execute_reply.started": "2024-02-27T03:00:32.382868Z",
          "shell.execute_reply": "2024-02-27T03:00:32.41258Z"
        },
        "trusted": true,
        "id": "8BMDWDWnE7oE"
      },
      "execution_count": null,
      "outputs": []
    },
    {
      "cell_type": "markdown",
      "source": [
        "### **Naive Bayes**"
      ],
      "metadata": {
        "id": "FDcfzK1vE7oE"
      }
    },
    {
      "cell_type": "code",
      "source": [
        "import warnings\n",
        "warnings.filterwarnings(\"ignore\")\n",
        "\n",
        "# Initialize and train a Multinomial Naive Bayes Classifier\n",
        "clf_NB = MultinomialNB()\n",
        "clf_NB.fit(X_train, y_train)\n",
        "\n",
        "# Make predictions on the validation set\n",
        "y_pred = clf_NB.predict(X_val)\n",
        "\n",
        "# Evaluate the performance of the model\n",
        "accuracy = accuracy_score(y_val, y_pred)\n",
        "print(\"Validation Accuracy:\", accuracy)\n",
        "print(classification_report(y_val, y_pred))"
      ],
      "metadata": {
        "execution": {
          "iopub.status.busy": "2024-02-27T03:07:47.07166Z",
          "iopub.execute_input": "2024-02-27T03:07:47.072155Z",
          "iopub.status.idle": "2024-02-27T03:07:48.042349Z",
          "shell.execute_reply.started": "2024-02-27T03:07:47.072119Z",
          "shell.execute_reply": "2024-02-27T03:07:48.041033Z"
        },
        "trusted": true,
        "id": "szb8klNwE7oE"
      },
      "execution_count": null,
      "outputs": []
    },
    {
      "cell_type": "code",
      "source": [
        "accuracy_NB = accuracy_score(y_val, y_pred)\n",
        "accuracy_NB"
      ],
      "metadata": {
        "execution": {
          "iopub.status.busy": "2024-02-27T03:01:06.961035Z",
          "iopub.execute_input": "2024-02-27T03:01:06.961454Z",
          "iopub.status.idle": "2024-02-27T03:01:06.987435Z",
          "shell.execute_reply.started": "2024-02-27T03:01:06.961422Z",
          "shell.execute_reply": "2024-02-27T03:01:06.985592Z"
        },
        "trusted": true,
        "id": "WMqinFaVE7oE"
      },
      "execution_count": null,
      "outputs": []
    },
    {
      "cell_type": "markdown",
      "source": [
        "### **Logistic Regression**"
      ],
      "metadata": {
        "id": "zRFxQyAcE7oE"
      }
    },
    {
      "cell_type": "code",
      "source": [
        "# Initialize and train a Logistic Regression Classifier\n",
        "clf_logreg = LogisticRegression(multi_class='multinomial', solver='sag')\n",
        "clf_logreg.fit(X_train, y_train)\n",
        "\n",
        "# Make predictions on the validation set\n",
        "y_pred = clf_logreg.predict(X_val)\n",
        "\n",
        "# Evaluate the performance of the model\n",
        "accuracy = accuracy_score(y_val, y_pred)\n",
        "print(\"Validation Accuracy:\", accuracy)\n",
        "print(classification_report(y_val, y_pred))"
      ],
      "metadata": {
        "execution": {
          "iopub.status.busy": "2024-02-27T03:07:52.581295Z",
          "iopub.execute_input": "2024-02-27T03:07:52.582081Z",
          "iopub.status.idle": "2024-02-27T03:08:03.999695Z",
          "shell.execute_reply.started": "2024-02-27T03:07:52.58204Z",
          "shell.execute_reply": "2024-02-27T03:08:03.998438Z"
        },
        "trusted": true,
        "id": "grvTZMefE7oE"
      },
      "execution_count": null,
      "outputs": []
    },
    {
      "cell_type": "code",
      "source": [
        "accuracy_logreg = accuracy_score(y_val, y_pred)\n",
        "accuracy_logreg"
      ],
      "metadata": {
        "execution": {
          "iopub.status.busy": "2024-02-27T03:01:30.053682Z",
          "iopub.execute_input": "2024-02-27T03:01:30.054096Z",
          "iopub.status.idle": "2024-02-27T03:01:30.089214Z",
          "shell.execute_reply.started": "2024-02-27T03:01:30.054066Z",
          "shell.execute_reply": "2024-02-27T03:01:30.088128Z"
        },
        "trusted": true,
        "id": "VtsuyMSIE7oE"
      },
      "execution_count": null,
      "outputs": []
    },
    {
      "cell_type": "markdown",
      "source": [
        "### **Make Predictions on the Test Data**"
      ],
      "metadata": {
        "id": "2XWvKWjYE7oE"
      }
    },
    {
      "cell_type": "markdown",
      "source": [
        "### **Naive Bayes**"
      ],
      "metadata": {
        "id": "w3U2aXjJE7oF"
      }
    },
    {
      "cell_type": "code",
      "source": [
        "# Use the trained model to make predictions on the test data\n",
        "X_test_predictions = clf_NB.predict(X_test)\n",
        "test_data['Predicted_Genre_NB'] = X_test_predictions"
      ],
      "metadata": {
        "execution": {
          "iopub.status.busy": "2024-02-27T03:26:46.332697Z",
          "iopub.execute_input": "2024-02-27T03:26:46.333082Z",
          "iopub.status.idle": "2024-02-27T03:26:46.467955Z",
          "shell.execute_reply.started": "2024-02-27T03:26:46.333054Z",
          "shell.execute_reply": "2024-02-27T03:26:46.46664Z"
        },
        "trusted": true,
        "id": "GP1Jtzq8E7oF"
      },
      "execution_count": null,
      "outputs": []
    },
    {
      "cell_type": "markdown",
      "source": [
        "### **Logistic Regression**"
      ],
      "metadata": {
        "id": "Wv_KVEOZE7oF"
      }
    },
    {
      "cell_type": "code",
      "source": [
        "# Use the trained model to make predictions on the test data\n",
        "X_test_predictions = clf_logreg.predict(X_test)\n",
        "test_data['Predicted_Genre_LR'] = X_test_predictions"
      ],
      "metadata": {
        "execution": {
          "iopub.status.busy": "2024-02-27T03:26:48.134027Z",
          "iopub.execute_input": "2024-02-27T03:26:48.13444Z",
          "iopub.status.idle": "2024-02-27T03:26:48.26707Z",
          "shell.execute_reply.started": "2024-02-27T03:26:48.134411Z",
          "shell.execute_reply": "2024-02-27T03:26:48.265377Z"
        },
        "trusted": true,
        "id": "X_6gFKpyE7oF"
      },
      "execution_count": null,
      "outputs": []
    },
    {
      "cell_type": "markdown",
      "source": [
        "### **Make Consolidated Dataframe**"
      ],
      "metadata": {
        "id": "GCe3Ruw7E7oF"
      }
    },
    {
      "cell_type": "code",
      "source": [
        "# Save the test_data DataFrame with predicted genres to a CSV file\n",
        "test_data.to_csv('predicted_genres.csv', index=False)\n",
        "\n",
        "# Add actual genre column to predicted dataFrame\n",
        "extracted_col = test_soln_data[\"Actual Genre\"]\n",
        "test_data.insert(5, \"Actual Genre\", extracted_col)"
      ],
      "metadata": {
        "execution": {
          "iopub.status.busy": "2024-02-27T03:26:53.243416Z",
          "iopub.execute_input": "2024-02-27T03:26:53.243884Z",
          "iopub.status.idle": "2024-02-27T03:26:55.163761Z",
          "shell.execute_reply.started": "2024-02-27T03:26:53.243852Z",
          "shell.execute_reply": "2024-02-27T03:26:55.162455Z"
        },
        "trusted": true,
        "id": "TcZx6VRYE7oF"
      },
      "execution_count": null,
      "outputs": []
    },
    {
      "cell_type": "code",
      "source": [
        "# Display the 'test_data' DataFrame with predicted and actual genres\n",
        "test_data.head()"
      ],
      "metadata": {
        "execution": {
          "iopub.status.busy": "2024-02-27T03:26:56.959777Z",
          "iopub.execute_input": "2024-02-27T03:26:56.96033Z",
          "iopub.status.idle": "2024-02-27T03:26:56.97573Z",
          "shell.execute_reply.started": "2024-02-27T03:26:56.96026Z",
          "shell.execute_reply": "2024-02-27T03:26:56.974134Z"
        },
        "trusted": true,
        "id": "jcVS3SLmE7oF"
      },
      "execution_count": null,
      "outputs": []
    },
    {
      "cell_type": "code",
      "source": [
        "count_same_values_NB = (test_data['Predicted_Genre_NB'] == test_data['Actual Genre']).sum()\n",
        "count_same_values_LR = (test_data['Predicted_Genre_LR'] == test_data['Actual Genre']).sum()\n",
        "\n",
        "print(\"Number of samples where Naive Bayes Classifier predicted accurately:\", count_same_values_NB)\n",
        "print(\"Number of samples where Logistic Regression Classifier predicted accurately:\", count_same_values_LR)"
      ],
      "metadata": {
        "execution": {
          "iopub.status.busy": "2024-02-27T03:27:01.699905Z",
          "iopub.execute_input": "2024-02-27T03:27:01.7003Z",
          "iopub.status.idle": "2024-02-27T03:27:01.742787Z",
          "shell.execute_reply.started": "2024-02-27T03:27:01.700271Z",
          "shell.execute_reply": "2024-02-27T03:27:01.741278Z"
        },
        "trusted": true,
        "id": "pgcwgJiHE7oG"
      },
      "execution_count": null,
      "outputs": []
    },
    {
      "cell_type": "markdown",
      "source": [
        "### **Comparison**"
      ],
      "metadata": {
        "id": "h1FVQNdSE7oG"
      }
    },
    {
      "cell_type": "markdown",
      "source": [
        "### **On the Basis of Accuracy Score**"
      ],
      "metadata": {
        "id": "Byaiv3bpE7oG"
      }
    },
    {
      "cell_type": "code",
      "source": [
        "sum = accuracy_NB + accuracy_logreg\n",
        "size1 = (accuracy_NB/sum)\n",
        "size2 = (accuracy_logreg/sum)"
      ],
      "metadata": {
        "execution": {
          "iopub.status.busy": "2024-02-27T03:02:18.722428Z",
          "iopub.execute_input": "2024-02-27T03:02:18.722958Z",
          "iopub.status.idle": "2024-02-27T03:02:18.73Z",
          "shell.execute_reply.started": "2024-02-27T03:02:18.722922Z",
          "shell.execute_reply": "2024-02-27T03:02:18.72816Z"
        },
        "trusted": true,
        "id": "y9R3mioPE7oG"
      },
      "execution_count": null,
      "outputs": []
    },
    {
      "cell_type": "code",
      "source": [
        "labels = ['Naive Bayes', 'Logistic Regression']\n",
        "sizes = [size1, size2]\n",
        "\n",
        "# Plotting the pie chart\n",
        "plt.figure(figsize=(5,5))\n",
        "plt.pie(sizes, labels=labels, autopct='%1.1f%%', startangle=90, shadow = True)\n",
        "plt.title('Accuracy Comparison')\n",
        "plt.legend()\n",
        "plt.show()"
      ],
      "metadata": {
        "execution": {
          "iopub.status.busy": "2024-02-27T03:02:20.785415Z",
          "iopub.execute_input": "2024-02-27T03:02:20.787159Z",
          "iopub.status.idle": "2024-02-27T03:02:21.042477Z",
          "shell.execute_reply.started": "2024-02-27T03:02:20.787082Z",
          "shell.execute_reply": "2024-02-27T03:02:21.040715Z"
        },
        "trusted": true,
        "id": "OLaWX_XGE7oG"
      },
      "execution_count": null,
      "outputs": []
    },
    {
      "cell_type": "markdown",
      "source": [
        "### **On the Basis of Solution**"
      ],
      "metadata": {
        "id": "s9-uxprYE7oG"
      }
    },
    {
      "cell_type": "code",
      "source": [
        "sum = count_same_values_NB + count_same_values_LR\n",
        "portion1 = (count_same_values_NB/sum)\n",
        "portion2 = (count_same_values_LR/sum)"
      ],
      "metadata": {
        "execution": {
          "iopub.status.busy": "2024-02-27T03:31:14.307361Z",
          "iopub.execute_input": "2024-02-27T03:31:14.307941Z",
          "iopub.status.idle": "2024-02-27T03:31:14.314261Z",
          "shell.execute_reply.started": "2024-02-27T03:31:14.307899Z",
          "shell.execute_reply": "2024-02-27T03:31:14.313135Z"
        },
        "trusted": true,
        "id": "ad6qnVPdE7oG"
      },
      "execution_count": null,
      "outputs": []
    },
    {
      "cell_type": "code",
      "source": [
        "labels = ['Naive Bayes', 'Logistic Regression']\n",
        "sizes = [portion1, portion2]\n",
        "\n",
        "# Plotting the pie chart\n",
        "plt.figure(figsize=(5,5))\n",
        "plt.pie(sizes, labels=labels, autopct='%1.1f%%', startangle=90, shadow = True)\n",
        "plt.title('Accuracy Comparison')\n",
        "plt.legend()\n",
        "plt.show()"
      ],
      "metadata": {
        "execution": {
          "iopub.status.busy": "2024-02-27T03:31:15.211968Z",
          "iopub.execute_input": "2024-02-27T03:31:15.212387Z",
          "iopub.status.idle": "2024-02-27T03:31:15.41827Z",
          "shell.execute_reply.started": "2024-02-27T03:31:15.212354Z",
          "shell.execute_reply": "2024-02-27T03:31:15.416823Z"
        },
        "trusted": true,
        "id": "tMLPxCzjE7oG"
      },
      "execution_count": null,
      "outputs": []
    }
  ]
}